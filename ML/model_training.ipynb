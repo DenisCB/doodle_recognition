{
 "cells": [
  {
   "cell_type": "code",
   "execution_count": 1,
   "metadata": {
    "collapsed": false,
    "scrolled": false
   },
   "outputs": [
    {
     "name": "stdout",
     "output_type": "stream",
     "text": [
      "Populating the interactive namespace from numpy and matplotlib\n",
      "env: KERAS_BACKEND=tensorflow\n"
     ]
    }
   ],
   "source": [
    "import json\n",
    "import numpy as np\n",
    "import pandas as pd\n",
    "import os\n",
    "import time\n",
    "\n",
    "from sklearn.model_selection import train_test_split\n",
    "from sklearn.preprocessing import LabelEncoder\n",
    "\n",
    "import PIL\n",
    "from PIL import ImageDraw\n",
    "\n",
    "%pylab inline\n",
    "import matplotlib.pylab as plt\n",
    "import seaborn as sns\n",
    "plt.style.use('ggplot')\n",
    "plt.style.use('seaborn-poster')\n",
    "sns.set(style='white', context='notebook', palette='deep')\n",
    "\n",
    "%env KERAS_BACKEND tensorflow"
   ]
  },
  {
   "cell_type": "code",
   "execution_count": null,
   "metadata": {
    "collapsed": true
   },
   "outputs": [],
   "source": [
    "def im2arr(drawing):\n",
    "    # Original images are 255x255, add extra 5 to each edge.\n",
    "    im = PIL.Image.new(mode='L', size=(260, 260))\n",
    "    draw = PIL.ImageDraw.Draw(im)\n",
    "\n",
    "    # Shift the strokes from edges by 5 pixels, convert them to valid format.\n",
    "    for stroke in drawing:\n",
    "        stroke_shifted = list(map(lambda x: tuple([i+2.5 for i in x]), \n",
    "                                  tuple(zip(stroke[0], stroke[1])))\n",
    "                             )\n",
    "        draw.line(stroke_shifted, fill=255, width=4)\n",
    "    \n",
    "    # Find the bounding box.\n",
    "    bbox = PIL.Image.eval(im, lambda x: x).getbbox()\n",
    "    width = bbox[2] - bbox[0] # right minus left\n",
    "    height = bbox[3] - bbox[1] # bottom minus top\n",
    "    # Center after croping.\n",
    "    diff = width - height\n",
    "    if diff >= 0:\n",
    "        bbox = (bbox[0], bbox[1]-diff/2, bbox[2], bbox[3]+diff/2)\n",
    "    else:\n",
    "        bbox = (bbox[0]+diff/2, bbox[1], bbox[2]-diff/2, bbox[3])\n",
    "    # Add borders.\n",
    "    bbox = (bbox[0]-border_px, bbox[1]-border_px, bbox[2]+border_px, bbox[3]+border_px)\n",
    "    \n",
    "    # Crop and resize.\n",
    "    im = im.crop(bbox)\n",
    "    im = im.resize((px, px), resample=3)\n",
    "    \n",
    "    # Clip max values to make lines less blury.\n",
    "    im = np.array(im).astype(float)\n",
    "    im /= im.max()/2\n",
    "\n",
    "    return im.clip(0,1)\n"
   ]
  },
  {
   "cell_type": "code",
   "execution_count": 3,
   "metadata": {
    "collapsed": false
   },
   "outputs": [],
   "source": [
    "from helpers import im2arr\n",
    "px = 96\n",
    "border_px = 2\n",
    "df = pd.read_csv('data/df.csv')\n",
    "train = np.load('data/strokes_raw.npy')"
   ]
  },
  {
   "cell_type": "code",
   "execution_count": null,
   "metadata": {
    "collapsed": true
   },
   "outputs": [],
   "source": [
    "sample = 10000\n",
    "if sample !=0:\n",
    "    sample = np.random.choice(len(df), sample)\n",
    "    df = df.loc[sample].reset_index(drop=True)\n",
    "    train = train[sample]"
   ]
  },
  {
   "cell_type": "code",
   "execution_count": null,
   "metadata": {
    "collapsed": false
   },
   "outputs": [],
   "source": [
    "def plot_on_grid(title, recognized):\n",
    "    fig = plt.figure(figsize=(15,6))\n",
    "    nrows, ncols = 3, 7\n",
    "    fig.suptitle(title, fontsize=16)\n",
    "    img_ids = np.random.choice(df[df.recognized==recognized].index, nrows*ncols)\n",
    "\n",
    "    for i in range(nrows * ncols):\n",
    "        image_ind = img_ids[i]\n",
    "        ax = fig.add_subplot(nrows, ncols, i+1)        \n",
    "        ax.axis('off')\n",
    "        ax.imshow(im2arr(train[image_ind]))\n",
    "        ax.set_title(df.target.loc[image_ind], fontsize=14)\n",
    "        \n",
    "    fig.tight_layout()\n",
    "    fig.subplots_adjust(top=0.85)\n",
    "    plt.show()\n",
    "    \n",
    "plot_on_grid(\"Examples of recognized images\", 1)\n",
    "plot_on_grid(\"Examples of not recognized images\", 0)"
   ]
  },
  {
   "cell_type": "code",
   "execution_count": null,
   "metadata": {
    "collapsed": false
   },
   "outputs": [],
   "source": [
    "from keras.utils.np_utils import to_categorical # convert to one-hot-encoding\n",
    "\n",
    "le = LabelEncoder()\n",
    "ytrain = le.fit_transform(df.target.values)\n",
    "ytrain = to_categorical(ytrain).astype(int)\n",
    "\n",
    "(train, valid,\n",
    " ytrain, yvalid,\n",
    " df, dfvalid) = train_test_split(train, ytrain, df, test_size=0.1, random_state=0)\n",
    "\n",
    "train_weights = np.array([1 if recognized==1 else 0.25 for recognized in df.recognized])\n",
    "valid_weights = np.ones(valid.shape[0])\n",
    "\n",
    "np.save('classes.npy', le.classes_)"
   ]
  },
  {
   "cell_type": "code",
   "execution_count": null,
   "metadata": {
    "collapsed": false
   },
   "outputs": [],
   "source": []
  },
  {
   "cell_type": "code",
   "execution_count": null,
   "metadata": {
    "collapsed": false
   },
   "outputs": [],
   "source": []
  },
  {
   "cell_type": "raw",
   "metadata": {
    "collapsed": false
   },
   "source": [
    "# Leave only recognized samples for training.\n",
    "train = train[df.recognized==1]\n",
    "ytrain = ytrain[df.recognized==1]"
   ]
  },
  {
   "cell_type": "code",
   "execution_count": null,
   "metadata": {
    "collapsed": false
   },
   "outputs": [],
   "source": [
    "from keras.models import Sequential\n",
    "from keras.layers import Dense, Dropout, Flatten, Conv2D, MaxPool2D, BatchNormalization\n",
    "from keras.optimizers import Adam\n",
    "from keras.callbacks import EarlyStopping, ModelCheckpoint"
   ]
  },
  {
   "cell_type": "code",
   "execution_count": null,
   "metadata": {
    "collapsed": false
   },
   "outputs": [],
   "source": [
    "def batch_generator(X, y, weights, BATCH_SIZE, EPOCH_PARTION):\n",
    "    \"\"\"\n",
    "    Batch generator for nnet training\n",
    "    input:\n",
    "        X - train dataset,  numpy array or csr matrix\n",
    "        y - target, numpy array\n",
    "        BATCH_SIZE - int, number of objects in batch. If X is csr matrix, it will be transformed \n",
    "        to dense array so batch size must be small enough for this array to fit in memory\n",
    "        EPOCH_PARTION - float, share of objects that will be used for training in epoch\n",
    "        \n",
    "    Important: in this implementation each batch is constructed from random objects from train.\n",
    "    \"\"\"\n",
    "\n",
    "    batch_number = 0\n",
    "    \n",
    "    batches_per_epoch = int(X.shape[0]/BATCH_SIZE*EPOCH_PARTION)\n",
    "    while True:\n",
    "        batch_indexes = np.random.choice(X.shape[0], BATCH_SIZE)\n",
    "        X_batch = X[batch_indexes]\n",
    "        \n",
    "#         X_batch = np.array(get_data(X_batch)).reshape(-1, px, px, 1)\n",
    "\n",
    "        X_batch = np.array([im2arr(drawing) for drawing in X_batch]).reshape(-1, px, px, 1)\n",
    "        batch_number += 1\n",
    "        yield X_batch, y[batch_indexes], weights[batch_indexes]\n",
    "        if batch_number == batches_per_epoch-1:\n",
    "            batch_number = 0\n",
    "            \n",
    "def batch_generator_p(X, BATCH_SIZE):\n",
    "    \"\"\"\n",
    "    Batch generator for nnet predictions\n",
    "    input:\n",
    "        X - train dataset,  numpy array or csr matrix\n",
    "        BATCH_SIZE - number of objects in batch. If X is csr matrix, it will be transformed \n",
    "        to dense array so batch size must be small enough for this array to fit in memory        \n",
    "    \"\"\"\n",
    "     \n",
    "    number_of_batches = X.shape[0] / np.ceil(X.shape[0]/BATCH_SIZE)\n",
    "    batch_number = 0\n",
    "    sample_index = np.arange(X.shape[0])\n",
    "    while True:\n",
    "        batch_indexes = sample_index[BATCH_SIZE*batch_number : BATCH_SIZE*(batch_number+1)]\n",
    "        X_batch = X[batch_indexes]\n",
    "        X_batch = np.array([im2arr(drawing) for drawing in X_batch])\n",
    "        X_batch = X_batch.reshape(-1, px, px, 1)\n",
    "        batch_number += 1\n",
    "        yield (X_batch)\n",
    "        if batch_number == number_of_batches:\n",
    "            batch_number = 0"
   ]
  },
  {
   "cell_type": "code",
   "execution_count": null,
   "metadata": {
    "collapsed": false
   },
   "outputs": [],
   "source": [
    "import multiprocessing as mp\n",
    "\n",
    "def get_data(data):\n",
    "    with mp.Pool() as pool:\n",
    "        res = pool.map(im2arr, data)\n",
    "    return res"
   ]
  },
  {
   "cell_type": "code",
   "execution_count": null,
   "metadata": {
    "collapsed": false
   },
   "outputs": [],
   "source": [
    "px=96\n",
    "model = Sequential()\n",
    "model.add(Conv2D(filters = 128, kernel_size = (5, 5), activation='relu',\n",
    "                 input_shape = (px, px, 1)))\n",
    "model.add(BatchNormalization())\n",
    "model.add(MaxPool2D())\n",
    "model.add(Dropout(0.05))\n",
    "\n",
    "model.add(Conv2D(filters = 128, kernel_size = (3, 3), activation='relu'))\n",
    "model.add(BatchNormalization())\n",
    "model.add(MaxPool2D())\n",
    "model.add(Dropout(0.05))\n",
    "\n",
    "model.add(Conv2D(filters = 256, kernel_size = (3, 3), activation='relu'))\n",
    "model.add(BatchNormalization())\n",
    "model.add(MaxPool2D())\n",
    "model.add(Dropout(0.05))\n",
    "\n",
    "model.add(Conv2D(filters = 128, kernel_size = (1, 1), activation='relu'))\n",
    "model.add(BatchNormalization())\n",
    "model.add(Dropout(0.05))\n",
    "\n",
    "model.add(Conv2D(filters = 256, kernel_size = (3, 3), activation='relu'))\n",
    "model.add(BatchNormalization())\n",
    "model.add(MaxPool2D())\n",
    "model.add(Dropout(0.05))\n",
    "\n",
    "model.add(Conv2D(filters = 256, kernel_size = (3, 3), activation='relu'))\n",
    "model.add(BatchNormalization())\n",
    "\n",
    "model.add(Flatten())\n",
    "model.add(Dense(128, activation='relu'))\n",
    "model.add(Dropout(0.05))\n",
    "\n",
    "model.add(Dense(322, activation='softmax'))\n",
    "\n",
    "model.compile(loss='categorical_crossentropy', \n",
    "              optimizer = Adam(lr=1e-4),\n",
    "              metrics=[\"accuracy\"])\n",
    "model.summary()"
   ]
  },
  {
   "cell_type": "code",
   "execution_count": null,
   "metadata": {
    "collapsed": false
   },
   "outputs": [],
   "source": [
    "EPOCH_PARTION = 0.1\n",
    "BATCH_SIZE = 128\n",
    "\n",
    "early_stopper = EarlyStopping(monitor='val_acc', patience=5, verbose=0, mode='auto')\n",
    "checkpoint = ModelCheckpoint(filepath='nnet_v1.h5', monitor='val_acc', save_best_only=True)\n",
    "\n",
    "model.fit_generator(\n",
    "    generator=batch_generator(train, ytrain, train_weights, BATCH_SIZE, EPOCH_PARTION),\n",
    "    samples_per_epoch=np.ceil(train.shape[0]/BATCH_SIZE*EPOCH_PARTION),    \n",
    "    \n",
    "#     validation_data=batch_generator(valid, yvalid, valid_weights, BATCH_SIZE, EPOCH_PARTION),\n",
    "#     validation_steps = np.ceil(valid.shape[0]/BATCH_SIZE),\n",
    "    \n",
    "    verbose=1, nb_epoch=200,\n",
    "    callbacks=[early_stopper, checkpoint]\n",
    "\n",
    "    #use_multiprocessing=True,\n",
    "    #workers=2\n",
    ")"
   ]
  },
  {
   "cell_type": "code",
   "execution_count": null,
   "metadata": {
    "collapsed": true
   },
   "outputs": [],
   "source": [
    "# 27s"
   ]
  },
  {
   "cell_type": "code",
   "execution_count": null,
   "metadata": {
    "collapsed": false
   },
   "outputs": [],
   "source": [
    "%%timeit\n",
    "# X_batch = np.array([im2arr(drawing) for drawing in train[:10000]])\n",
    "# X_batch = X_batch.reshape(-1, px, px, 1)\n",
    "batch = [im2arr(drawing) for drawing in train[:10000]]"
   ]
  },
  {
   "cell_type": "code",
   "execution_count": null,
   "metadata": {
    "collapsed": true
   },
   "outputs": [],
   "source": [
    "import multiprocessing as mp\n",
    "\n",
    "NUM_CORES=4\n",
    "def f(arr):\n",
    "    return [im2arr(drawing) for drawing in arr]\n",
    "\n",
    "def apply_parallel_sparse(DF, my_func):\n",
    "    \n",
    "    # Get split indices for DF to split on batches with (total_rows/NUM_CORES) rows each\n",
    "    total_rows = DF.shape[0]\n",
    "    split_indices = []\n",
    "    for i in range(NUM_CORES):\n",
    "        split_on = (int(total_rows/NUM_CORES)*i)\n",
    "        split_indices.append(split_on)\n",
    "    split_indices.append(total_rows)\n",
    "    \n",
    "    # Replace input matrix with list of NUM_CORES matricies\n",
    "    DF = [DF[split_indices[i]:split_indices[i+1]] for i in range(NUM_CORES)]\n",
    "    \n",
    "    # Apply my_func to each element of a DF list (sparse matricies) and construct final results list\n",
    "    res = []\n",
    "    pool = mp.Pool(NUM_CORES)\n",
    "    for part_res in pool.map(my_func, DF):\n",
    "        res+=part_res\n",
    "    res = np.array(res).reshape(-1, px, px, 1)\n",
    "    pool.close()\n",
    "    pool.join()\n",
    "    return res"
   ]
  },
  {
   "cell_type": "code",
   "execution_count": null,
   "metadata": {
    "collapsed": false
   },
   "outputs": [],
   "source": [
    "%%timeit\n",
    "a = apply_parallel_sparse(train[:10000], f)"
   ]
  },
  {
   "cell_type": "code",
   "execution_count": null,
   "metadata": {
    "collapsed": false
   },
   "outputs": [],
   "source": [
    "NUM_CORES=4\n",
    "batch = train[:10240]\n",
    "split_indices = [0, 2560, 2560*2, 2560*3, 10240]\n",
    "batch = [batch[split_indices[i]:split_indices[i+1]] for i in range(NUM_CORES)]"
   ]
  },
  {
   "cell_type": "code",
   "execution_count": null,
   "metadata": {
    "collapsed": false,
    "scrolled": true
   },
   "outputs": [],
   "source": [
    "pool = mp.Pool(NUM_CORES)\n",
    "res = []\n",
    "for part_res in pool.map(f, batch):\n",
    "    #yield part_res\n",
    "    print(len(part_res))"
   ]
  },
  {
   "cell_type": "code",
   "execution_count": null,
   "metadata": {
    "collapsed": false,
    "scrolled": true
   },
   "outputs": [],
   "source": [
    "pool.close()"
   ]
  },
  {
   "cell_type": "code",
   "execution_count": null,
   "metadata": {
    "collapsed": true
   },
   "outputs": [],
   "source": []
  },
  {
   "cell_type": "code",
   "execution_count": null,
   "metadata": {
    "collapsed": true
   },
   "outputs": [],
   "source": []
  },
  {
   "cell_type": "raw",
   "metadata": {
    "collapsed": true
   },
   "source": [
    "model.save('nnet_v1.h5')\n",
    "#8342"
   ]
  },
  {
   "cell_type": "code",
   "execution_count": null,
   "metadata": {
    "collapsed": false,
    "scrolled": false
   },
   "outputs": [],
   "source": [
    "from sklearn.metrics import confusion_matrix\n",
    "y_hat = model.predict_generator(generator=batch_generator_p(valid, BATCH_SIZE), \n",
    "                                val_samples=np.ceil(valid.shape[0]/BATCH_SIZE))\n",
    "y_pred = np.argmax(y_hat, axis=1)\n",
    "y_true = np.argmax(yvalid, axis=1)\n",
    "confusion = np.array(confusion_matrix(y_true, y_pred))\n",
    "print(confusion)"
   ]
  },
  {
   "cell_type": "code",
   "execution_count": null,
   "metadata": {
    "collapsed": false
   },
   "outputs": [],
   "source": [
    "sns.heatmap(confusion.astype('float') / confusion.sum(axis=1),\n",
    "            fmt='.0%',\n",
    "            annot=True, \n",
    "            xticklabels=list(le.classes_),\n",
    "            yticklabels=list(le.classes_),\n",
    "           )\n",
    "plt.ylabel('True label')\n",
    "plt.xlabel('Predicted label')\n",
    "plt.show()"
   ]
  },
  {
   "cell_type": "code",
   "execution_count": null,
   "metadata": {
    "collapsed": false
   },
   "outputs": [],
   "source": [
    "plt.hist(y_hat[range(y_hat.shape[0]), np.argmax(yvalid, axis=1)], bins=np.arange(0,1,0.01));"
   ]
  },
  {
   "cell_type": "code",
   "execution_count": null,
   "metadata": {
    "collapsed": false
   },
   "outputs": [],
   "source": [
    "import keras\n",
    "\n",
    "model = Sequential()\n",
    "\n",
    "model.add(Conv2D(filters = 32, kernel_size = (3, 3), activation='relu',\n",
    "                 input_shape = (px, px, 1)))\n",
    "model.add(BatchNormalization())\n",
    "model.add(MaxPool2D())\n",
    "model.add(Dropout(0.1))\n",
    "\n",
    "model.add(Conv2D(filters = 64, kernel_size = (3, 3), activation='relu'))\n",
    "model.add(BatchNormalization())\n",
    "model.add(MaxPool2D())\n",
    "model.add(Dropout(0.1))\n",
    "\n",
    "model.add(Conv2D(filters = 128, kernel_size = (3, 3), activation='relu'))\n",
    "model.add(BatchNormalization())\n",
    "model.add(MaxPool2D())\n",
    "model.add(Dropout(0.1))\n",
    "\n",
    "model.add(Conv2D(filters = 64, kernel_size = (1, 1), activation='relu'))\n",
    "model.add(BatchNormalization())\n",
    "model.add(Dropout(0.1))\n",
    "\n",
    "model.add(Conv2D(filters = 128, kernel_size = (3, 3), activation='relu'))\n",
    "model.add(BatchNormalization())\n",
    "model.add(Dropout(0.1))\n",
    "\n",
    "model.add(Flatten())\n",
    "model.add(Dense(128, activation='relu'))\n",
    "model.add(Dropout(0.1))\n",
    "\n",
    "model.add(Dense(330, activation='softmax'))\n",
    "\n",
    "model.compile(loss='categorical_crossentropy', \n",
    "              optimizer = Adam(lr=5e-5),\n",
    "              metrics=[\"accuracy\"])\n",
    "\n",
    "#model =  keras.models.load_model('nnet_v1.h5')\n",
    "model.load_weights('nnet_v1.h5')\n",
    "#model =  keras.models.load_model('nnet_v1_recognized.h5')\n",
    "\n",
    "model._make_predict_function()"
   ]
  },
  {
   "cell_type": "code",
   "execution_count": null,
   "metadata": {
    "collapsed": false
   },
   "outputs": [],
   "source": [
    "a = np.array([2,5,4,2,1])\n",
    "a.argsort()[-2]"
   ]
  },
  {
   "cell_type": "code",
   "execution_count": null,
   "metadata": {
    "collapsed": false
   },
   "outputs": [],
   "source": [
    "i = 4\n",
    "print(le.classes_[np.argmax(yvalid[mask][i])])\n",
    "plt.imshow(valid[mask][i].reshape(px, px))"
   ]
  },
  {
   "cell_type": "code",
   "execution_count": null,
   "metadata": {
    "collapsed": false,
    "scrolled": true
   },
   "outputs": [],
   "source": [
    "from PIL import Image, ImageOps\n",
    "import PIL\n",
    "import keras\n",
    "all_classes = np.load('classes.npy')\n",
    "# model =  keras.models.load_model('nnet_96_v1.h5')\n",
    "# model._make_predict_function()\n",
    "\n",
    "px=96\n",
    "border=2"
   ]
  },
  {
   "cell_type": "code",
   "execution_count": null,
   "metadata": {
    "collapsed": true
   },
   "outputs": [],
   "source": []
  },
  {
   "cell_type": "code",
   "execution_count": null,
   "metadata": {
    "collapsed": true
   },
   "outputs": [],
   "source": []
  },
  {
   "cell_type": "code",
   "execution_count": null,
   "metadata": {
    "collapsed": false,
    "scrolled": false
   },
   "outputs": [],
   "source": [
    "\n",
    "files_to_read = [f for f in os.listdir('../tmp/') \n",
    "        if f.endswith('.jpg')]\n",
    "for f in files_to_read:\n",
    "    img = Image.open('../tmp/'+f)\n",
    "\n",
    "    # Invert colors.\n",
    "    img = img.convert('L')\n",
    "    img = ImageOps.invert(img)\n",
    "\n",
    "    # Find the bounding box.\n",
    "    border = 2\n",
    "    bbox = Image.eval(img, lambda x: x).getbbox()\n",
    "    width = bbox[2] - bbox[0] # right minus left\n",
    "    height = bbox[3] - bbox[1] # bottom minus top\n",
    "    # Center after croping.\n",
    "    diff = width - height\n",
    "    if diff >= 0:\n",
    "        bbox = (bbox[0], bbox[1]-diff/2, bbox[2], bbox[3]+diff/2)\n",
    "    else:\n",
    "        print('sdfs')\n",
    "        bbox = (bbox[0]+diff/2, bbox[1], bbox[2]-diff/2, bbox[3])\n",
    "    # Add borders.\n",
    "    bbox = (bbox[0]-border, bbox[1]-border, bbox[2]+border, bbox[3]+border)\n",
    "\n",
    "    # Crop and resize.\n",
    "    \n",
    "#     img = img.filter(PIL.ImageFilter.GaussianBlur(3))\n",
    "    \n",
    "    img = img.crop(bbox)\n",
    "    img = img.resize((px, px), resample=3)\n",
    "    \n",
    "    im = np.array(img).astype(float)\n",
    "\n",
    "    # Clip max values to make lines less blury.\n",
    "#     im[im < im.max()/1.5] = 0\n",
    "    im /= im.max()/2\n",
    "    im = im.clip(0, 1)\n",
    "    # preds = model.predict(img.reshape(1, px, px, 1))\n",
    "    # print(le.classes_[preds.argmax()], preds.max())\n",
    "    #print(preds)\n",
    "    #print()\n",
    "\n",
    "    plt.imshow(im);\n",
    "    plt.show()\n",
    "    \n",
    "    plt.imshow(im2arr(np.random.choice(train)))\n",
    "    plt.show()\n",
    "\n"
   ]
  },
  {
   "cell_type": "code",
   "execution_count": null,
   "metadata": {
    "collapsed": false
   },
   "outputs": [],
   "source": [
    "im"
   ]
  },
  {
   "cell_type": "code",
   "execution_count": null,
   "metadata": {
    "collapsed": false
   },
   "outputs": [],
   "source": [
    "[im < im.max()/1.1]"
   ]
  },
  {
   "cell_type": "code",
   "execution_count": null,
   "metadata": {
    "collapsed": true
   },
   "outputs": [],
   "source": []
  },
  {
   "cell_type": "code",
   "execution_count": null,
   "metadata": {
    "collapsed": false
   },
   "outputs": [],
   "source": [
    "train[0].max()"
   ]
  },
  {
   "cell_type": "code",
   "execution_count": null,
   "metadata": {
    "collapsed": false
   },
   "outputs": [],
   "source": [
    "plt.figure(figsize(2,2))\n",
    "plt.imshow(img2.reshape(1, px, px, 1).reshape(px, px))\n",
    "plt.axis('off');"
   ]
  },
  {
   "cell_type": "code",
   "execution_count": null,
   "metadata": {
    "collapsed": false
   },
   "outputs": [],
   "source": [
    "model.predict(img2.reshape(1, px, px, 1))"
   ]
  },
  {
   "cell_type": "code",
   "execution_count": null,
   "metadata": {
    "collapsed": false
   },
   "outputs": [],
   "source": [
    "le.classes_"
   ]
  },
  {
   "cell_type": "code",
   "execution_count": null,
   "metadata": {
    "collapsed": false
   },
   "outputs": [],
   "source": [
    "a = 'img_4.jpg'\n",
    "a[4:-4]"
   ]
  },
  {
   "cell_type": "code",
   "execution_count": null,
   "metadata": {
    "collapsed": false
   },
   "outputs": [],
   "source": []
  },
  {
   "cell_type": "code",
   "execution_count": null,
   "metadata": {
    "collapsed": true
   },
   "outputs": [],
   "source": []
  },
  {
   "cell_type": "code",
   "execution_count": null,
   "metadata": {
    "collapsed": true
   },
   "outputs": [],
   "source": []
  },
  {
   "cell_type": "code",
   "execution_count": null,
   "metadata": {
    "collapsed": true
   },
   "outputs": [],
   "source": []
  },
  {
   "cell_type": "code",
   "execution_count": null,
   "metadata": {
    "collapsed": true
   },
   "outputs": [],
   "source": []
  }
 ],
 "metadata": {
  "kernelspec": {
   "display_name": "Python 3",
   "language": "python",
   "name": "python3"
  },
  "language_info": {
   "codemirror_mode": {
    "name": "ipython",
    "version": 3
   },
   "file_extension": ".py",
   "mimetype": "text/x-python",
   "name": "python",
   "nbconvert_exporter": "python",
   "pygments_lexer": "ipython3",
   "version": "3.5.2"
  }
 },
 "nbformat": 4,
 "nbformat_minor": 2
}
