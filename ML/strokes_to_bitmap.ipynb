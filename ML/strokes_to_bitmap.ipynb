{
 "cells": [
  {
   "cell_type": "code",
   "execution_count": 1,
   "metadata": {
    "collapsed": false
   },
   "outputs": [
    {
     "name": "stdout",
     "output_type": "stream",
     "text": [
      "Populating the interactive namespace from numpy and matplotlib\n"
     ]
    }
   ],
   "source": [
    "import struct\n",
    "from struct import unpack\n",
    "import PIL\n",
    "from PIL import ImageDraw\n",
    "\n",
    "%pylab inline\n",
    "import matplotlib.pylab as plt\n",
    "import seaborn as sns\n",
    "plt.style.use('ggplot')\n",
    "plt.style.use('seaborn-poster')\n",
    "sns.set_palette('Set1', 10, desat=0.75)\n",
    "sns.set(style='white', context='notebook', palette='deep')"
   ]
  },
  {
   "cell_type": "code",
   "execution_count": 2,
   "metadata": {
    "collapsed": true
   },
   "outputs": [],
   "source": [
    "def unpack_drawing(file_handle):\n",
    "    key_id, = unpack('Q', file_handle.read(8))\n",
    "    countrycode, = unpack('2s', file_handle.read(2))\n",
    "    recognized, = unpack('b', file_handle.read(1))\n",
    "    timestamp, = unpack('I', file_handle.read(4))\n",
    "    n_strokes, = unpack('H', file_handle.read(2))\n",
    "    image = []\n",
    "    for i in range(n_strokes):\n",
    "        n_points, = unpack('H', file_handle.read(2))\n",
    "        fmt = str(n_points) + 'B'\n",
    "        x = unpack(fmt, file_handle.read(n_points))\n",
    "        y = unpack(fmt, file_handle.read(n_points))\n",
    "        image.append((x, y))\n",
    "\n",
    "    return {\n",
    "        'key_id': key_id,\n",
    "        'countrycode': countrycode,\n",
    "        'recognized': recognized,\n",
    "        'timestamp': timestamp,\n",
    "        'image': image\n",
    "    }\n",
    "\n",
    "\n",
    "def unpack_drawings(filename):\n",
    "    with open(filename, 'rb') as f:\n",
    "        while True:\n",
    "            try:\n",
    "                yield unpack_drawing(f)\n",
    "            except struct.error:\n",
    "                break"
   ]
  },
  {
   "cell_type": "code",
   "execution_count": 3,
   "metadata": {
    "collapsed": true
   },
   "outputs": [],
   "source": [
    "drawings = []\n",
    "for drawing in unpack_drawings('data/full-binary-car.bin'):\n",
    "    drawings.append(drawing)"
   ]
  },
  {
   "cell_type": "code",
   "execution_count": 4,
   "metadata": {
    "collapsed": false,
    "scrolled": true
   },
   "outputs": [
    {
     "data": {
      "text/plain": [
       "{'countrycode': b'PH',\n",
       " 'image': [((187,\n",
       "    173,\n",
       "    85,\n",
       "    56,\n",
       "    14,\n",
       "    7,\n",
       "    0,\n",
       "    0,\n",
       "    9,\n",
       "    23,\n",
       "    42,\n",
       "    68,\n",
       "    183,\n",
       "    216,\n",
       "    248,\n",
       "    255,\n",
       "    254,\n",
       "    247,\n",
       "    219,\n",
       "    207,\n",
       "    186),\n",
       "   (2,\n",
       "    0,\n",
       "    2,\n",
       "    55,\n",
       "    59,\n",
       "    66,\n",
       "    82,\n",
       "    89,\n",
       "    92,\n",
       "    92,\n",
       "    85,\n",
       "    85,\n",
       "    95,\n",
       "    104,\n",
       "    105,\n",
       "    96,\n",
       "    83,\n",
       "    77,\n",
       "    70,\n",
       "    63,\n",
       "    5)),\n",
       "  ((65, 54, 52, 57, 67, 79, 86, 88, 79),\n",
       "   (82, 91, 106, 121, 130, 131, 119, 100, 91)),\n",
       "  ((191, 186, 185, 185, 188), (98, 103, 109, 116, 121))],\n",
       " 'key_id': 4819414685843456,\n",
       " 'recognized': 1,\n",
       " 'timestamp': 1488334911}"
      ]
     },
     "execution_count": 4,
     "metadata": {},
     "output_type": "execute_result"
    }
   ],
   "source": [
    "drawings[0]"
   ]
  },
  {
   "cell_type": "code",
   "execution_count": 5,
   "metadata": {
    "collapsed": false
   },
   "outputs": [
    {
     "data": {
      "image/png": "[encoded data removed]",
      "text/plain": [
       "<matplotlib.figure.Figure at 0x1241f42b0>"
      ]
     },
     "metadata": {},
     "output_type": "display_data"
    }
   ],
   "source": [
    "def drawing2array(drawing):\n",
    "    # Original images are 255x255, add extra 2.5 to each edge.\n",
    "    im = PIL.Image.new(mode='L', size=(260, 260))\n",
    "    draw = PIL.ImageDraw.Draw(im)\n",
    "\n",
    "    # Shift the strokes from edges by 2.5 pixels, convert them to valid format.\n",
    "    shifted_strokes = [\n",
    "        list(map(lambda x: tuple([i+2.5 for i in x]), tuple(zip(stroke[0], stroke[1]))))\n",
    "        for stroke in drawing]\n",
    "    \n",
    "    # Draw wide half filled lines.\n",
    "    for stroke in shifted_strokes:\n",
    "        draw.line(stroke, fill=128, width=3)\n",
    "    \n",
    "    # Draw thin fully filled lines.\n",
    "    for stroke in shifted_strokes:\n",
    "        draw.line(stroke, fill=255, width=1)\n",
    "    \n",
    "    # Add some blur in order to smoothen the edges.\n",
    "    im = im.filter(PIL.ImageFilter.GaussianBlur(1))\n",
    "    # Clip max values to make core lines less blury.\n",
    "    im = np.array(im)\n",
    "    im = im.clip(0, int(im.max()/3))\n",
    "    return im\n",
    "\n",
    "im = drawing2array(drawings[0]['image'])\n",
    "plt.figure(figsize=(9,9))\n",
    "plt.imshow(im);"
   ]
  },
  {
   "cell_type": "code",
   "execution_count": 24,
   "metadata": {
    "collapsed": false
   },
   "outputs": [
    {
     "data": {
      "text/plain": [
       "12.0"
      ]
     },
     "execution_count": 24,
     "metadata": {},
     "output_type": "execute_result"
    }
   ],
   "source": [
    "0.2*60"
   ]
  },
  {
   "cell_type": "code",
   "execution_count": 27,
   "metadata": {
    "collapsed": false
   },
   "outputs": [
    {
     "data": {
      "text/plain": [
       "10.416666666666666"
      ]
     },
     "execution_count": 27,
     "metadata": {},
     "output_type": "execute_result"
    }
   ],
   "source": [
    "speed = 16000 / 12\n",
    "50*1e6 / speed / 3600"
   ]
  },
  {
   "cell_type": "code",
   "execution_count": 23,
   "metadata": {
    "collapsed": false
   },
   "outputs": [
    {
     "name": "stdout",
     "output_type": "stream",
     "text": [
      "1000 loops, best of 3: 546 µs per loop\n"
     ]
    }
   ],
   "source": [
    "def drawing2array(drawing):\n",
    "    # Original images are 255x255, add extra 2.5 to each edge.\n",
    "    im = PIL.Image.new(mode='L', size=(260, 260))\n",
    "    draw = PIL.ImageDraw.Draw(im)\n",
    "\n",
    "    # Shift the strokes from edges by 2.5 pixels, convert them to valid format.\n",
    "    for stroke in drawing:\n",
    "        stroke_shifted = list(map(lambda x: tuple([i+2.5 for i in x]), \n",
    "                                  tuple(zip(stroke[0], stroke[1])))\n",
    "                             )\n",
    "        draw.line(stroke_shifted, fill=255, width=3)\n",
    "\n",
    "    im = im.resize((56, 56), resample=3)\n",
    "    im = np.array(im)\n",
    "    # Clip max values to make lines less blury.\n",
    "    return im.clip(0, int(im.max()/2))\n",
    "\n",
    "\n",
    "%timeit drawing2array(drawings[0]['image'])"
   ]
  },
  {
   "cell_type": "code",
   "execution_count": null,
   "metadata": {
    "collapsed": false
   },
   "outputs": [],
   "source": []
  },
  {
   "cell_type": "code",
   "execution_count": null,
   "metadata": {
    "collapsed": true
   },
   "outputs": [],
   "source": []
  },
  {
   "cell_type": "code",
   "execution_count": null,
   "metadata": {
    "collapsed": true
   },
   "outputs": [],
   "source": []
  },
  {
   "cell_type": "code",
   "execution_count": null,
   "metadata": {
    "collapsed": true
   },
   "outputs": [],
   "source": []
  }
 ],
 "metadata": {
  "kernelspec": {
   "display_name": "Python 3",
   "language": "python",
   "name": "python3"
  },
  "language_info": {
   "codemirror_mode": {
    "name": "ipython",
    "version": 3
   },
   "file_extension": ".py",
   "mimetype": "text/x-python",
   "name": "python",
   "nbconvert_exporter": "python",
   "pygments_lexer": "ipython3",
   "version": "3.5.2"
  }
 },
 "nbformat": 4,
 "nbformat_minor": 2
}
