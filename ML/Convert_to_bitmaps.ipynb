{
 "cells": [
  {
   "cell_type": "code",
   "execution_count": 24,
   "metadata": {
    "collapsed": false
   },
   "outputs": [
    {
     "name": "stdout",
     "output_type": "stream",
     "text": [
      "Populating the interactive namespace from numpy and matplotlib\n"
     ]
    },
    {
     "name": "stderr",
     "output_type": "stream",
     "text": [
      "/Users/Denis/anaconda/envs/python3/lib/python3.5/site-packages/IPython/core/magics/pylab.py:161: UserWarning: pylab import has clobbered these variables: ['f', 'plt']\n",
      "`%matplotlib` prevents importing * from pylab and numpy\n",
      "  \"\\n`%matplotlib` prevents importing * from pylab and numpy\"\n"
     ]
    }
   ],
   "source": [
    "import struct\n",
    "from struct import unpack\n",
    "\n",
    "import json\n",
    "import numpy as np\n",
    "import pandas as pd\n",
    "import os\n",
    "import time\n",
    "import re\n",
    "\n",
    "import PIL\n",
    "from PIL import ImageDraw\n",
    "\n",
    "%pylab inline\n",
    "import matplotlib.pylab as plt\n",
    "import seaborn as sns\n",
    "plt.style.use('ggplot')\n",
    "plt.style.use('seaborn-poster')\n",
    "sns.set(style='white', context='notebook', palette='deep')"
   ]
  },
  {
   "cell_type": "code",
   "execution_count": 25,
   "metadata": {
    "collapsed": false
   },
   "outputs": [],
   "source": [
    "def unpack_drawing(file_handle):\n",
    "    key_id, = unpack('Q', file_handle.read(8))\n",
    "    countrycode, = unpack('2s', file_handle.read(2))\n",
    "    recognized, = unpack('b', file_handle.read(1))\n",
    "    timestamp, = unpack('I', file_handle.read(4))\n",
    "    n_strokes, = unpack('H', file_handle.read(2))\n",
    "    image = []\n",
    "    for i in range(n_strokes):\n",
    "        n_points, = unpack('H', file_handle.read(2))\n",
    "        fmt = str(n_points) + 'B'\n",
    "        x = unpack(fmt, file_handle.read(n_points))\n",
    "        y = unpack(fmt, file_handle.read(n_points))\n",
    "        image.append((x, y))\n",
    "\n",
    "    return {\n",
    "        #'key_id': key_id,\n",
    "        'countrycode': countrycode,\n",
    "        'recognized': recognized,\n",
    "        #'timestamp': timestamp,\n",
    "        'image': image\n",
    "    }\n",
    "\n",
    "def unpack_drawings(filename):\n",
    "    with open(filename, 'rb') as f:\n",
    "        while True:\n",
    "            try:\n",
    "                yield unpack_drawing(f)\n",
    "            except struct.error:\n",
    "                break\n"
   ]
  },
  {
   "cell_type": "code",
   "execution_count": 27,
   "metadata": {
    "collapsed": false,
    "scrolled": true
   },
   "outputs": [
    {
     "name": "stdout",
     "output_type": "stream",
     "text": [
      "Processing file 7 out of 7. Done 49k images in current file. Minutes elapsed 0.1      \r"
     ]
    }
   ],
   "source": [
    "max_imgs_per_category = 5e4\n",
    "\n",
    "df = []\n",
    "imgs = []\n",
    "files_to_read = [f for f in os.listdir('data/') if f.endswith('.bin')]\n",
    "t_start = time.time()\n",
    "\n",
    "for i, f in enumerate(files_to_read):\n",
    "    \n",
    "    imgs_meta = []\n",
    "    category = f.split('-')[-1].split('.')[0]  # Cut from the filename.\n",
    "    if category not in ['airplane', 'bat', 'bird', 'car', 'bus', 'mug', 'cup']:\n",
    "        continue\n",
    "    for j, drawing in enumerate(unpack_drawings('data/'+f)):\n",
    "        img = drawing.pop('image')\n",
    "        imgs.append(img)\n",
    "        imgs_meta.append(drawing)\n",
    "        \n",
    "        if j % 1000 == 0:\n",
    "            time_elapsed = round((time.time() - t_start)/60, 1)\n",
    "            print('Processing file {} out of {}. Done {}k images in current file. Minutes elapsed {}      '\n",
    "                  .format(i+1, len(files_to_read), int(j/1000), time_elapsed), end='\\r')\n",
    "        if j >= max_imgs_per_category-1:\n",
    "            break\n",
    "            \n",
    "    df_tmp = pd.DataFrame()\n",
    "    df_tmp['countrycode'] = [re.sub('[^A-Z]+', '', str(d['countrycode']))\n",
    "                             for d in imgs_meta]\n",
    "    df_tmp['recognized'] = [d['recognized'] for d in imgs_meta]\n",
    "    df_tmp['target'] = category\n",
    "    df.append(df_tmp)\n",
    "    \n",
    "    \n",
    "df = pd.concat(df, axis=0).reset_index(drop=True)\n",
    "imgs = np.array(imgs)\n",
    "\n",
    "del imgs_meta, df_tmp"
   ]
  },
  {
   "cell_type": "code",
   "execution_count": 28,
   "metadata": {
    "collapsed": false
   },
   "outputs": [
    {
     "name": "stdout",
     "output_type": "stream",
     "text": [
      "350000\n"
     ]
    }
   ],
   "source": [
    "print(df.shape[0])\n",
    "np.save('data/strokes_raw.npy', imgs)\n",
    "df.to_csv('data/df.csv', index=False)"
   ]
  },
  {
   "cell_type": "code",
   "execution_count": null,
   "metadata": {
    "collapsed": false
   },
   "outputs": [],
   "source": []
  }
 ],
 "metadata": {
  "kernelspec": {
   "display_name": "Python 3",
   "language": "python",
   "name": "python3"
  },
  "language_info": {
   "codemirror_mode": {
    "name": "ipython",
    "version": 3
   },
   "file_extension": ".py",
   "mimetype": "text/x-python",
   "name": "python",
   "nbconvert_exporter": "python",
   "pygments_lexer": "ipython3",
   "version": "3.5.2"
  }
 },
 "nbformat": 4,
 "nbformat_minor": 2
}
