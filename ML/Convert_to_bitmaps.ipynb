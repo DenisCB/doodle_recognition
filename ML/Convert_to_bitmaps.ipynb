{
 "cells": [
  {
   "cell_type": "code",
   "execution_count": 1,
   "metadata": {
    "collapsed": false
   },
   "outputs": [
    {
     "name": "stdout",
     "output_type": "stream",
     "text": [
      "Populating the interactive namespace from numpy and matplotlib\n"
     ]
    }
   ],
   "source": [
    "import struct\n",
    "from struct import unpack\n",
    "\n",
    "import json\n",
    "import numpy as np\n",
    "import pandas as pd\n",
    "import os\n",
    "import time\n",
    "import re\n",
    "\n",
    "import PIL\n",
    "from PIL import ImageDraw\n",
    "\n",
    "%pylab inline\n",
    "import matplotlib.pylab as plt\n",
    "import seaborn as sns\n",
    "plt.style.use('ggplot')\n",
    "plt.style.use('seaborn-poster')\n",
    "sns.set(style='white', context='notebook', palette='deep')"
   ]
  },
  {
   "cell_type": "code",
   "execution_count": 2,
   "metadata": {
    "collapsed": false
   },
   "outputs": [],
   "source": [
    "def unpack_drawing(file_handle):\n",
    "    key_id, = unpack('Q', file_handle.read(8))\n",
    "    countrycode, = unpack('2s', file_handle.read(2))\n",
    "    recognized, = unpack('b', file_handle.read(1))\n",
    "    timestamp, = unpack('I', file_handle.read(4))\n",
    "    n_strokes, = unpack('H', file_handle.read(2))\n",
    "    image = []\n",
    "    for i in range(n_strokes):\n",
    "        n_points, = unpack('H', file_handle.read(2))\n",
    "        fmt = str(n_points) + 'B'\n",
    "        x = unpack(fmt, file_handle.read(n_points))\n",
    "        y = unpack(fmt, file_handle.read(n_points))\n",
    "        image.append((x, y))\n",
    "\n",
    "    return {\n",
    "        #'key_id': key_id,\n",
    "        'countrycode': countrycode,\n",
    "        'recognized': recognized,\n",
    "        #'timestamp': timestamp,\n",
    "        'image': image\n",
    "    }\n",
    "\n",
    "def unpack_drawings(filename):\n",
    "    with open(filename, 'rb') as f:\n",
    "        while True:\n",
    "            try:\n",
    "                yield unpack_drawing(f)\n",
    "            except struct.error:\n",
    "                break\n",
    "                \n",
    "def drawing2array(drawing):\n",
    "    # Original images are 255x255, add extra 2.5 to each edge.\n",
    "    im = PIL.Image.new(mode='L', size=(260, 260))\n",
    "    draw = PIL.ImageDraw.Draw(im)\n",
    "\n",
    "    # Shift the strokes from edges by 2.5 pixels, convert them to valid format.\n",
    "    for stroke in drawing:\n",
    "        stroke_shifted = list(map(lambda x: tuple([i+2.5 for i in x]), \n",
    "                                  tuple(zip(stroke[0], stroke[1])))\n",
    "                             )\n",
    "        draw.line(stroke_shifted, fill=255, width=3)\n",
    "\n",
    "    im = im.resize((56, 56), resample=3)\n",
    "    im = np.array(im)\n",
    "    # Clip max values to make lines less blury.\n",
    "    return im.clip(0, int(im.max()/2))"
   ]
  },
  {
   "cell_type": "code",
   "execution_count": 5,
   "metadata": {
    "collapsed": false,
    "scrolled": true
   },
   "outputs": [
    {
     "name": "stdout",
     "output_type": "stream",
     "text": [
      "Processing file 7 out of 7. Done 99k images in current file. Minutes elapsed 0.3      \r"
     ]
    }
   ],
   "source": [
    "max_imgs_per_category = 1e5\n",
    "\n",
    "df = []\n",
    "imgs = []\n",
    "files_to_read = [f for f in os.listdir('data/') if f.endswith('.bin')]\n",
    "t_start = time.time()\n",
    "\n",
    "for i, f in enumerate(files_to_read):\n",
    "    \n",
    "    imgs_meta = []\n",
    "    category = f.split('-')[-1].split('.')[0]  # Cut from the filename.\n",
    "    if category not in ['airplane', 'bat', 'bird', 'car', 'bus', 'mug', 'cup']:\n",
    "        continue\n",
    "    for j, drawing in enumerate(unpack_drawings('data/'+f)):\n",
    "        img = drawing.pop('image')\n",
    "        #img = drawing2array(img)\n",
    "        imgs.append(img)\n",
    "        imgs_meta.append(drawing)\n",
    "        \n",
    "        if j % 1000 == 0:\n",
    "            time_elapsed = round((time.time() - t_start)/60, 1)\n",
    "            print('Processing file {} out of {}. Done {}k images in current file. Minutes elapsed {}      '\n",
    "                  .format(i+1, len(files_to_read), int(j/1000), time_elapsed), end='\\r')\n",
    "            \n",
    "        if j+1 >= max_imgs_per_category:\n",
    "            break\n",
    "\n",
    "    df_tmp = pd.DataFrame()\n",
    "    df_tmp['countrycode'] = [re.sub('[^A-Z]+', '', str(drawing['countrycode']))\n",
    "                             for d in imgs_meta]\n",
    "    df_tmp['recognized'] = [d['recognized'] for d in imgs_meta]\n",
    "    df_tmp['target'] = category\n",
    "    df.append(df_tmp)\n",
    "    \n",
    "df = pd.concat(df, axis=0).reset_index(drop=True)\n",
    "imgs = np.array(imgs)\n",
    "\n",
    "del imgs_meta, df_tmp"
   ]
  },
  {
   "cell_type": "code",
   "execution_count": 6,
   "metadata": {
    "collapsed": false
   },
   "outputs": [
    {
     "name": "stdout",
     "output_type": "stream",
     "text": [
      "700000\n"
     ]
    }
   ],
   "source": [
    "#resolution = imgs.shape[1]\n",
    "#mb_per_img = (resolution ** 2 * 8) / 8 / 1024 / 1024 \n",
    "#print('Bitmaps\\' size: {} MB'.format(round(imgs.shape[0] * mb_per_img, 2)))\n",
    "print(df.shape[0])\n",
    "np.save('data/strokes_raw.npy', imgs)\n",
    "df.to_csv('data/df.csv', index=False)"
   ]
  },
  {
   "cell_type": "code",
   "execution_count": 70,
   "metadata": {
    "collapsed": false
   },
   "outputs": [
    {
     "data": {
      "text/plain": [
       "(140000, 140000)"
      ]
     },
     "execution_count": 70,
     "metadata": {},
     "output_type": "execute_result"
    }
   ],
   "source": [
    "imgs.shape[0], df.shape[0]"
   ]
  },
  {
   "cell_type": "code",
   "execution_count": 54,
   "metadata": {
    "collapsed": false,
    "scrolled": true
   },
   "outputs": [],
   "source": [
    "np.save('data/strokes_raw.npy', imgs)\n",
    "imgs = np.load('data/strokes_raw.npy')"
   ]
  },
  {
   "cell_type": "code",
   "execution_count": null,
   "metadata": {
    "collapsed": false
   },
   "outputs": [],
   "source": []
  },
  {
   "cell_type": "code",
   "execution_count": 55,
   "metadata": {
    "collapsed": false
   },
   "outputs": [
    {
     "data": {
      "text/plain": [
       "<matplotlib.image.AxesImage at 0x1c5adf208>"
      ]
     },
     "execution_count": 55,
     "metadata": {},
     "output_type": "execute_result"
    },
    {
     "data": {
      "image/png": "[encoded data removed]",
      "text/plain": [
       "<matplotlib.figure.Figure at 0x1a1b00940>"
      ]
     },
     "metadata": {},
     "output_type": "display_data"
    }
   ],
   "source": [
    "plt.imshow(drawing2array(imgs[0]))"
   ]
  },
  {
   "cell_type": "code",
   "execution_count": null,
   "metadata": {
    "collapsed": false
   },
   "outputs": [],
   "source": [
    "plt.subplots(figsize=(15,6))\n",
    "\n",
    "nrows, ncols = 3, 7\n",
    "for i in range(nrows * ncols):\n",
    "    image_ind = np.random.choice(range(len(imgs)))\n",
    "    plt.subplot(nrows, ncols, i+1)\n",
    "    plt.axis('off')\n",
    "    plt.imshow(imgs[image_ind])\n",
    "    plt.title(df.target.loc[image_ind], fontsize=14)\n",
    "\n",
    "plt.tight_layout()\n",
    "plt.show()"
   ]
  },
  {
   "cell_type": "code",
   "execution_count": null,
   "metadata": {
    "collapsed": false,
    "scrolled": false
   },
   "outputs": [],
   "source": [
    "def find_most_common(imgs, df, label):\n",
    "    mask = df.target==label\n",
    "    mean_img = imgs[mask].mean(axis=0)\n",
    "    \n",
    "    plt.figure(figsize=(4,4))\n",
    "    plt.imshow(mean_img)\n",
    "    \n",
    "    # Removes half-empty pictures.\n",
    "    mask = (mask) & (imgs.mean(axis=(1,2)) >= mean_img.mean())\n",
    "    diffs = np.sum(((mean_img - imgs[mask])**2), axis=(1,2))\n",
    "    best_match_index = np.argmin(diffs)\n",
    "    \n",
    "    plt.figure(figsize=(4,4))\n",
    "    plt.imshow(imgs[mask][best_match_index])\n",
    "    \n",
    "    return mean_img\n",
    "\n",
    "mi = find_most_common(imgs, df, 'bat')"
   ]
  },
  {
   "cell_type": "code",
   "execution_count": null,
   "metadata": {
    "collapsed": false
   },
   "outputs": [],
   "source": []
  },
  {
   "cell_type": "code",
   "execution_count": null,
   "metadata": {
    "collapsed": false
   },
   "outputs": [],
   "source": []
  },
  {
   "cell_type": "code",
   "execution_count": null,
   "metadata": {
    "collapsed": false,
    "scrolled": true
   },
   "outputs": [],
   "source": [
    "from sklearn.linear_model import LogisticRegression\n",
    "\n",
    "lr = LogisticRegression(C=0.001, max_iter=500)#, multi_class='multinomial', solver='lbfgs', max_iter=500)\n",
    "lr.fit(train.reshape(-1, 28*28), ytrain)\n",
    "\n",
    "plt.imshow(lr.coef_[0].reshape(28,28))"
   ]
  },
  {
   "cell_type": "code",
   "execution_count": null,
   "metadata": {
    "collapsed": false
   },
   "outputs": [],
   "source": [
    "from keras.utils.np_utils import to_categorical\n",
    "from sklearn.preprocessing import LabelEncoder\n",
    "from keras.utils.np_utils import to_categorical # convert to one-hot-encoding\n",
    "from keras.models import Sequential\n",
    "from keras.layers import Dense, Dropout, Flatten, Conv2D, MaxPool2D, BatchNormalization\n",
    "from keras.optimizers import Adam\n",
    "from keras.preprocessing.image import ImageDataGenerator\n",
    "from keras.callbacks import LearningRateScheduler\n",
    "\n",
    "le = LabelEncoder()\n",
    "y = le.fit_transform(targets)\n",
    "y = to_categorical(y).astype(int)\n",
    "imgs = imgs.reshape(-1, 28, 28, 1)\n",
    "\n",
    "train, valid, ytrain, yvalid = train_test_split(imgs, y, test_size = 0.25, random_state=0)"
   ]
  },
  {
   "cell_type": "code",
   "execution_count": null,
   "metadata": {
    "collapsed": false
   },
   "outputs": [],
   "source": [
    "model = Sequential()\n",
    "\n",
    "model.add(Conv2D(filters = 32, kernel_size = (3, 3), activation='relu',\n",
    "                 input_shape = (28, 28, 1)))\n",
    "model.add(BatchNormalization())\n",
    "model.add(MaxPool2D())\n",
    "model.add(Dropout(0.5))\n",
    "\n",
    "model.add(Conv2D(filters = 64, kernel_size = (3, 3), activation='relu'))\n",
    "model.add(BatchNormalization())\n",
    "model.add(MaxPool2D())\n",
    "model.add(Dropout(0.5))\n",
    "\n",
    "model.add(Flatten())\n",
    "model.add(Dense(64, activation='relu'))\n",
    "model.add(Dropout(0.5))\n",
    "model.add(Dense(y.shape[1], activation='softmax'))\n",
    "\n",
    "model.compile(loss='categorical_crossentropy', \n",
    "              optimizer = Adam(lr=1e-4),\n",
    "              metrics=[\"accuracy\"])"
   ]
  },
  {
   "cell_type": "code",
   "execution_count": null,
   "metadata": {
    "collapsed": false,
    "scrolled": true
   },
   "outputs": [],
   "source": [
    "model.summary()"
   ]
  },
  {
   "cell_type": "code",
   "execution_count": null,
   "metadata": {
    "collapsed": false,
    "scrolled": true
   },
   "outputs": [],
   "source": [
    "# history = model.fit_generator(datagen.flow(X_train,Y_train, batch_size=batch_size),\n",
    "#                               epochs = epochs, validation_data = (X_val,Y_val),\n",
    "#                               verbose = 2, steps_per_epoch=X_train.shape[0] // batch_size\n",
    "#                               , callbacks=[learning_rate_reduction])\n",
    "#model.compile(optimizer = optimizer , loss = \"sparse_categorical_crossentropy\", metrics=[\"accuracy\"])\n",
    "model.fit(train, ytrain,\n",
    "          batch_size=1024,\n",
    "          epochs=50, verbose=1,\n",
    "          validation_data=(\n",
    "              valid, yvalid)\n",
    "            )"
   ]
  },
  {
   "cell_type": "code",
   "execution_count": null,
   "metadata": {
    "collapsed": true
   },
   "outputs": [],
   "source": [
    "#model.save('nnet_v1.h5')\n",
    "model.load_weights('nnet_v1.h5')"
   ]
  },
  {
   "cell_type": "code",
   "execution_count": null,
   "metadata": {
    "collapsed": false
   },
   "outputs": [],
   "source": [
    "import keras\n",
    "model =  keras.models.load_model('nnet_v1.h5')"
   ]
  },
  {
   "cell_type": "code",
   "execution_count": null,
   "metadata": {
    "collapsed": true
   },
   "outputs": [],
   "source": [
    "np.save('classes.npy', le.classes_)\n",
    "lec = np.load('classes.npy')"
   ]
  },
  {
   "cell_type": "code",
   "execution_count": null,
   "metadata": {
    "collapsed": false
   },
   "outputs": [],
   "source": [
    "lec"
   ]
  },
  {
   "cell_type": "code",
   "execution_count": null,
   "metadata": {
    "collapsed": false,
    "scrolled": true
   },
   "outputs": [],
   "source": [
    "from sklearn.metrics import confusion_matrix\n",
    "y_hat = model.predict(valid)\n",
    "y_pred = np.argmax(y_hat, axis=1)\n",
    "y_true = np.argmax(yvalid, axis=1)\n",
    "confusion = np.array(confusion_matrix(y_true, y_pred))\n",
    "print(confusion)"
   ]
  },
  {
   "cell_type": "code",
   "execution_count": null,
   "metadata": {
    "collapsed": false
   },
   "outputs": [],
   "source": [
    "sns.heatmap(confusion.astype('float') / confusion.sum(axis=1),\n",
    "            fmt='.0%',\n",
    "            annot=True, \n",
    "            xticklabels=list(le.classes_),\n",
    "            yticklabels=list(le.classes_),\n",
    "           )\n",
    "plt.ylabel('True label')\n",
    "plt.xlabel('Predicted label')\n",
    "plt.show()"
   ]
  },
  {
   "cell_type": "code",
   "execution_count": null,
   "metadata": {
    "collapsed": false
   },
   "outputs": [],
   "source": [
    "mask = y_hat[range(y_hat.shape[0]), np.argmax(yvalid, axis=1)]>0.95"
   ]
  },
  {
   "cell_type": "code",
   "execution_count": null,
   "metadata": {
    "collapsed": false
   },
   "outputs": [],
   "source": [
    "i = 929\n",
    "print(le.classes_[np.argmax(yvalid[mask][i])])\n",
    "plt.imshow(valid[mask][i].reshape(28,28))"
   ]
  },
  {
   "cell_type": "code",
   "execution_count": null,
   "metadata": {
    "collapsed": false
   },
   "outputs": [],
   "source": [
    "plt.hist(y_hat[range(y_hat.shape[0]), np.argmax(yvalid, axis=1)], bins=np.arange(0,1,0.01));"
   ]
  },
  {
   "cell_type": "code",
   "execution_count": null,
   "metadata": {
    "collapsed": false,
    "scrolled": true
   },
   "outputs": [],
   "source": [
    "from PIL import Image\n",
    "import PIL\n",
    "import glob\n",
    "import cv2"
   ]
  },
  {
   "cell_type": "code",
   "execution_count": null,
   "metadata": {
    "collapsed": false
   },
   "outputs": [],
   "source": [
    "img2 = img2 / 0"
   ]
  },
  {
   "cell_type": "code",
   "execution_count": null,
   "metadata": {
    "collapsed": false
   },
   "outputs": [],
   "source": []
  },
  {
   "cell_type": "code",
   "execution_count": null,
   "metadata": {
    "collapsed": true
   },
   "outputs": [],
   "source": []
  },
  {
   "cell_type": "code",
   "execution_count": null,
   "metadata": {
    "collapsed": false,
    "scrolled": true
   },
   "outputs": [],
   "source": [
    "img = Image.open('f1.jpg')\n",
    "\n",
    "plt.imshow(img)\n",
    "plt.show()\n",
    "\n",
    "for resample in [PIL.Image.BOX, PIL.Image.BILINEAR, PIL.Image.HAMMING, PIL.Image.LANCZOS, 1,3, 5]:\n",
    "    img2 = img.resize((28,28), resample=resample)\n",
    "    img2 = np.array(img2)[:, :, 0].astype(float)\n",
    "    img2 = - img2 + img2.max()\n",
    "    img2 /= img2.max()/2\n",
    "    img2 = img2.clip(0, 1)\n",
    "    plt.imshow(img2)\n",
    "    plt.show()\n",
    "# plt.imshow(img)"
   ]
  },
  {
   "cell_type": "code",
   "execution_count": null,
   "metadata": {
    "collapsed": false,
    "scrolled": true
   },
   "outputs": [],
   "source": [
    "img = Image.open('f1.jpg')\n",
    "\n",
    "for resample in [PIL.Image.HAMMING, PIL.Image.BOX, PIL.Image.LANCZOS,  1, 3, 5]:\n",
    "    img2 = img.resize((28,28), resample=resample)\n",
    "    img2 = np.array(img2)[:, :, 0].astype(float)\n",
    "    img2 = - img2 + img2.max()\n",
    "    img2 /= img2.max()/2\n",
    "    img2 = img2.clip(0, 1)\n",
    "    \n",
    "    preds = model.predict(img2.reshape(1, 28, 28, 1))\n",
    "    print(le.classes_[preds.argmax()], preds.max())\n",
    "    print(preds)\n",
    "    print()"
   ]
  },
  {
   "cell_type": "code",
   "execution_count": null,
   "metadata": {
    "collapsed": false
   },
   "outputs": [],
   "source": [
    "preds.sum()"
   ]
  },
  {
   "cell_type": "code",
   "execution_count": null,
   "metadata": {
    "collapsed": false
   },
   "outputs": [],
   "source": [
    "le.classes_"
   ]
  },
  {
   "cell_type": "code",
   "execution_count": null,
   "metadata": {
    "collapsed": false
   },
   "outputs": [],
   "source": [
    "all_categories = ['airplane', 'bat', 'bird', 'bus', 'car', 'cup', 'mug']\n",
    "print('\\n'.join(np.random.choice(all_categories, 5, False)))"
   ]
  },
  {
   "cell_type": "code",
   "execution_count": null,
   "metadata": {
    "collapsed": true
   },
   "outputs": [],
   "source": []
  },
  {
   "cell_type": "code",
   "execution_count": null,
   "metadata": {
    "collapsed": true
   },
   "outputs": [],
   "source": []
  }
 ],
 "metadata": {
  "kernelspec": {
   "display_name": "Python 3",
   "language": "python",
   "name": "python3"
  },
  "language_info": {
   "codemirror_mode": {
    "name": "ipython",
    "version": 3
   },
   "file_extension": ".py",
   "mimetype": "text/x-python",
   "name": "python",
   "nbconvert_exporter": "python",
   "pygments_lexer": "ipython3",
   "version": "3.5.2"
  }
 },
 "nbformat": 4,
 "nbformat_minor": 2
}
